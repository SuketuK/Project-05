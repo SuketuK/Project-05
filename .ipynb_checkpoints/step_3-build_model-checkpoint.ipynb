{
 "cells": [
  {
   "cell_type": "code",
   "execution_count": 1,
   "metadata": {
    "collapsed": true
   },
   "outputs": [],
   "source": [
    "#from lib.project_5 import load_data_from_database, make_data_dict, general_model, general_transformer"
   ]
  },
  {
   "cell_type": "markdown",
   "metadata": {},
   "source": [
    "# Step 3 - Build Model"
   ]
  },
  {
   "cell_type": "markdown",
   "metadata": {},
   "source": [
    "**NOTE: EACH OF THESE SHOULD BE WRITTEN SOLELY WITH REGARD TO STEP 3 - Build Model**\n",
    "\n",
    "### Domain and Data\n",
    "\n",
    "**TODO:** Write a simple statement about the domain of your problem and the dataset upon which you will be working. \n",
    "**We ran Logistic Regression on Madelone data set. We also reviewed coefficients for each feature from 500 features and identified salient features. Below are the salient feature we idenfied:**\n",
    "\n"
   ]
  },
  {
   "cell_type": "markdown",
   "metadata": {},
   "source": [
    "![](http://localhost:8888/notebooks/dsi/dsi-workspace/project-05/images/salient_features_step2.png)"
   ]
  },
  {
   "cell_type": "markdown",
   "metadata": {},
   "source": [
    "### Problem Statement\n",
    "\n",
    "We seek to idenfity features from Madelon data set that affect out target i.e. Label. There are 500 features given to us our goal is identify salient features. We do not know if features identifed above are the ones affecting our target so we like to compare our model with other models. \n",
    "\n",
    "\n",
    "### Solution Statement\n",
    "\n",
    "We will build model and compare that against different models we will predict the results based on best model and provide a report.\n",
    "\n",
    "### Metric\n",
    "\n",
    "We will use SelectKBest, KNN, GridSearchCV and LogisticRegression and review and compare score and features.\n",
    "\n",
    "### Benchmark\n",
    "\n",
    "**TODO**: This should refer to Step 1."
   ]
  },
  {
   "cell_type": "code",
   "execution_count": 1,
   "metadata": {
    "collapsed": true
   },
   "outputs": [],
   "source": [
    "from sqlalchemy import create_engine\n",
    "import pandas as pd\n",
    "#from os import chdir; chdir('..')\n",
    "from os import chdir; chdir('./lib')\n",
    "from sklearn.preprocessing import StandardScaler\n",
    "from project_5 import load_data_from_database, make_data_dict,general_transformer, general_model\n",
    "from sklearn import linear_model\n",
    "#from sklearn.metrics import mean_absolute_error, mean_squared_error, r2_score\n",
    "from sklearn.model_selection import train_test_split, GridSearchCV\n",
    "from sklearn.linear_model import LogisticRegression,Lasso\n",
    "from sklearn import metrics\n",
    "from sklearn.feature_selection import SelectKBest, f_classif\n",
    "from sklearn.pipeline import Pipeline\n",
    "from sklearn.pipeline import make_pipeline\n",
    "from sklearn.neighbors import KNeighborsClassifier\n"
   ]
  },
  {
   "cell_type": "code",
   "execution_count": 2,
   "metadata": {
    "collapsed": false
   },
   "outputs": [
    {
     "name": "stdout",
     "output_type": "stream",
     "text": [
      "/src/dsi/dsi-workspace/project-05/lib\r\n"
     ]
    }
   ],
   "source": [
    "!pwd"
   ]
  },
  {
   "cell_type": "markdown",
   "metadata": {},
   "source": [
    "** Load Data, define X and y, Split data in to train and test, and Scale the data for analysis. We will split data in to 50% train and 50% test **"
   ]
  },
  {
   "cell_type": "code",
   "execution_count": 3,
   "metadata": {
    "collapsed": false
   },
   "outputs": [],
   "source": [
    "madelon_df = load_data_from_database()\n",
    "del madelon_df[\"index\"]\n",
    "# Define X and y\n",
    "y = madelon_df[\"label\"]\n",
    "X = madelon_df.drop(\"label\",axis=1)\n"
   ]
  },
  {
   "cell_type": "markdown",
   "metadata": {},
   "source": [
    "** Construct a pipeline that uses LogisticRegression **\n",
    "1. Build a new pipeline for LogisticRegression.\n",
    "2. Ran model on L1 and L2\n",
    "3. With Regularization 0.01, .1, .2, 0.03\n",
    "4. Run 5 Fold Grid Serach\n",
    "5. Review the Score"
   ]
  },
  {
   "cell_type": "code",
   "execution_count": 4,
   "metadata": {
    "collapsed": false
   },
   "outputs": [
    {
     "data": {
      "text/plain": [
       "[StandardScaler(copy=True, with_mean=True, with_std=True),\n",
       " GridSearchCV(cv=5, error_score='raise',\n",
       "        estimator=LogisticRegression(C=1.0, class_weight=None, dual=False, fit_intercept=True,\n",
       "           intercept_scaling=1, max_iter=100, multi_class='ovr', n_jobs=1,\n",
       "           penalty='l2', random_state=None, solver='liblinear', tol=0.0001,\n",
       "           verbose=0, warm_start=False),\n",
       "        fit_params={}, iid=True, n_jobs=1,\n",
       "        param_grid={'penalty': ['l1', 'l2'], 'C': [0.01, 0.1, 0.2, 0.03]},\n",
       "        pre_dispatch='2*n_jobs', refit=True, return_train_score=True,\n",
       "        scoring=None, verbose=0)]"
      ]
     },
     "execution_count": 4,
     "metadata": {},
     "output_type": "execute_result"
    }
   ],
   "source": [
    "data_dict= make_data_dict(X,y,0.5,random_state=42)\n",
    "data_dict = general_transformer(StandardScaler(),data_dict)\n",
    "lr_model = LogisticRegression()\n",
    "lr_params = {\n",
    "    'C' : [1E-2, 1E-1, 2E-1, 3E-2],\n",
    "    'penalty' : ['l1', 'l2']\n",
    "}\n",
    "gs_model = GridSearchCV(lr_model, param_grid=lr_params, cv=5)\n",
    "data_dict = general_model(gs_model, data_dict)\n",
    "data_dict[\"processes\"]"
   ]
  },
  {
   "cell_type": "code",
   "execution_count": 6,
   "metadata": {
    "collapsed": false
   },
   "outputs": [],
   "source": [
    "gs_model1 = data_dict[\"processes\"][1]"
   ]
  },
  {
   "cell_type": "code",
   "execution_count": 7,
   "metadata": {
    "collapsed": false
   },
   "outputs": [
    {
     "name": "stdout",
     "output_type": "stream",
     "text": [
      "{'penalty': 'l1', 'C': 0.03}\n",
      "0.626\n",
      "LogisticRegression(C=0.03, class_weight=None, dual=False, fit_intercept=True,\n",
      "          intercept_scaling=1, max_iter=100, multi_class='ovr', n_jobs=1,\n",
      "          penalty='l1', random_state=None, solver='liblinear', tol=0.0001,\n",
      "          verbose=0, warm_start=False)\n"
     ]
    }
   ],
   "source": [
    "print gs_model1.best_params_\n",
    "print gs_model1.best_score_\n",
    "print gs_model1.best_estimator_"
   ]
  },
  {
   "cell_type": "markdown",
   "metadata": {},
   "source": [
    "### Of all models LogisticRegression with L1 with C value 0.03 had highest test score of 62.6%"
   ]
  },
  {
   "cell_type": "code",
   "execution_count": 28,
   "metadata": {
    "collapsed": false
   },
   "outputs": [],
   "source": [
    "lr_result_df = pd.DataFrame(gs_model1.cv_results_)"
   ]
  },
  {
   "cell_type": "code",
   "execution_count": 29,
   "metadata": {
    "collapsed": false
   },
   "outputs": [
    {
     "data": {
      "text/html": [
       "<div>\n",
       "<table border=\"1\" class=\"dataframe\">\n",
       "  <thead>\n",
       "    <tr style=\"text-align: right;\">\n",
       "      <th></th>\n",
       "      <th>mean_fit_time</th>\n",
       "      <th>mean_score_time</th>\n",
       "      <th>mean_test_score</th>\n",
       "      <th>mean_train_score</th>\n",
       "      <th>param_C</th>\n",
       "      <th>param_penalty</th>\n",
       "      <th>params</th>\n",
       "      <th>rank_test_score</th>\n",
       "      <th>split0_test_score</th>\n",
       "      <th>split0_train_score</th>\n",
       "      <th>...</th>\n",
       "      <th>split2_test_score</th>\n",
       "      <th>split2_train_score</th>\n",
       "      <th>split3_test_score</th>\n",
       "      <th>split3_train_score</th>\n",
       "      <th>split4_test_score</th>\n",
       "      <th>split4_train_score</th>\n",
       "      <th>std_fit_time</th>\n",
       "      <th>std_score_time</th>\n",
       "      <th>std_test_score</th>\n",
       "      <th>std_train_score</th>\n",
       "    </tr>\n",
       "  </thead>\n",
       "  <tbody>\n",
       "    <tr>\n",
       "      <th>0</th>\n",
       "      <td>0.010505</td>\n",
       "      <td>0.000558</td>\n",
       "      <td>0.503</td>\n",
       "      <td>0.503000</td>\n",
       "      <td>0.01</td>\n",
       "      <td>l1</td>\n",
       "      <td>{u'penalty': u'l1', u'C': 0.01}</td>\n",
       "      <td>8</td>\n",
       "      <td>0.502488</td>\n",
       "      <td>0.503129</td>\n",
       "      <td>...</td>\n",
       "      <td>0.505</td>\n",
       "      <td>0.50250</td>\n",
       "      <td>0.502513</td>\n",
       "      <td>0.503121</td>\n",
       "      <td>0.502513</td>\n",
       "      <td>0.503121</td>\n",
       "      <td>0.002427</td>\n",
       "      <td>0.000263</td>\n",
       "      <td>0.001000</td>\n",
       "      <td>0.000250</td>\n",
       "    </tr>\n",
       "    <tr>\n",
       "      <th>1</th>\n",
       "      <td>0.030319</td>\n",
       "      <td>0.000495</td>\n",
       "      <td>0.576</td>\n",
       "      <td>0.877494</td>\n",
       "      <td>0.01</td>\n",
       "      <td>l2</td>\n",
       "      <td>{u'penalty': u'l2', u'C': 0.01}</td>\n",
       "      <td>3</td>\n",
       "      <td>0.577114</td>\n",
       "      <td>0.883605</td>\n",
       "      <td>...</td>\n",
       "      <td>0.640</td>\n",
       "      <td>0.85750</td>\n",
       "      <td>0.537688</td>\n",
       "      <td>0.887640</td>\n",
       "      <td>0.502513</td>\n",
       "      <td>0.888889</td>\n",
       "      <td>0.002865</td>\n",
       "      <td>0.000214</td>\n",
       "      <td>0.051083</td>\n",
       "      <td>0.012071</td>\n",
       "    </tr>\n",
       "    <tr>\n",
       "      <th>2</th>\n",
       "      <td>0.075427</td>\n",
       "      <td>0.000405</td>\n",
       "      <td>0.581</td>\n",
       "      <td>0.816245</td>\n",
       "      <td>0.1</td>\n",
       "      <td>l1</td>\n",
       "      <td>{u'penalty': u'l1', u'C': 0.1}</td>\n",
       "      <td>2</td>\n",
       "      <td>0.572139</td>\n",
       "      <td>0.814768</td>\n",
       "      <td>...</td>\n",
       "      <td>0.625</td>\n",
       "      <td>0.80750</td>\n",
       "      <td>0.537688</td>\n",
       "      <td>0.818976</td>\n",
       "      <td>0.557789</td>\n",
       "      <td>0.827715</td>\n",
       "      <td>0.031537</td>\n",
       "      <td>0.000013</td>\n",
       "      <td>0.032801</td>\n",
       "      <td>0.006834</td>\n",
       "    </tr>\n",
       "    <tr>\n",
       "      <th>3</th>\n",
       "      <td>0.069390</td>\n",
       "      <td>0.000393</td>\n",
       "      <td>0.554</td>\n",
       "      <td>0.955741</td>\n",
       "      <td>0.1</td>\n",
       "      <td>l2</td>\n",
       "      <td>{u'penalty': u'l2', u'C': 0.1}</td>\n",
       "      <td>6</td>\n",
       "      <td>0.567164</td>\n",
       "      <td>0.961202</td>\n",
       "      <td>...</td>\n",
       "      <td>0.610</td>\n",
       "      <td>0.94875</td>\n",
       "      <td>0.512563</td>\n",
       "      <td>0.971286</td>\n",
       "      <td>0.502513</td>\n",
       "      <td>0.962547</td>\n",
       "      <td>0.007483</td>\n",
       "      <td>0.000002</td>\n",
       "      <td>0.040480</td>\n",
       "      <td>0.012651</td>\n",
       "    </tr>\n",
       "    <tr>\n",
       "      <th>4</th>\n",
       "      <td>0.094846</td>\n",
       "      <td>0.000465</td>\n",
       "      <td>0.572</td>\n",
       "      <td>0.882993</td>\n",
       "      <td>0.2</td>\n",
       "      <td>l1</td>\n",
       "      <td>{u'penalty': u'l1', u'C': 0.2}</td>\n",
       "      <td>4</td>\n",
       "      <td>0.597015</td>\n",
       "      <td>0.884856</td>\n",
       "      <td>...</td>\n",
       "      <td>0.630</td>\n",
       "      <td>0.88125</td>\n",
       "      <td>0.517588</td>\n",
       "      <td>0.891386</td>\n",
       "      <td>0.532663</td>\n",
       "      <td>0.890137</td>\n",
       "      <td>0.020145</td>\n",
       "      <td>0.000081</td>\n",
       "      <td>0.041426</td>\n",
       "      <td>0.008639</td>\n",
       "    </tr>\n",
       "    <tr>\n",
       "      <th>5</th>\n",
       "      <td>0.076968</td>\n",
       "      <td>0.000400</td>\n",
       "      <td>0.545</td>\n",
       "      <td>0.977993</td>\n",
       "      <td>0.2</td>\n",
       "      <td>l2</td>\n",
       "      <td>{u'penalty': u'l2', u'C': 0.2}</td>\n",
       "      <td>7</td>\n",
       "      <td>0.557214</td>\n",
       "      <td>0.982478</td>\n",
       "      <td>...</td>\n",
       "      <td>0.580</td>\n",
       "      <td>0.97125</td>\n",
       "      <td>0.517588</td>\n",
       "      <td>0.983770</td>\n",
       "      <td>0.502513</td>\n",
       "      <td>0.990012</td>\n",
       "      <td>0.001161</td>\n",
       "      <td>0.000007</td>\n",
       "      <td>0.029707</td>\n",
       "      <td>0.009848</td>\n",
       "    </tr>\n",
       "    <tr>\n",
       "      <th>6</th>\n",
       "      <td>0.021284</td>\n",
       "      <td>0.000415</td>\n",
       "      <td>0.626</td>\n",
       "      <td>0.648740</td>\n",
       "      <td>0.03</td>\n",
       "      <td>l1</td>\n",
       "      <td>{u'penalty': u'l1', u'C': 0.03}</td>\n",
       "      <td>1</td>\n",
       "      <td>0.616915</td>\n",
       "      <td>0.642053</td>\n",
       "      <td>...</td>\n",
       "      <td>0.630</td>\n",
       "      <td>0.64125</td>\n",
       "      <td>0.613065</td>\n",
       "      <td>0.677903</td>\n",
       "      <td>0.628141</td>\n",
       "      <td>0.642946</td>\n",
       "      <td>0.008285</td>\n",
       "      <td>0.000028</td>\n",
       "      <td>0.010204</td>\n",
       "      <td>0.014624</td>\n",
       "    </tr>\n",
       "    <tr>\n",
       "      <th>7</th>\n",
       "      <td>0.043668</td>\n",
       "      <td>0.000395</td>\n",
       "      <td>0.559</td>\n",
       "      <td>0.915991</td>\n",
       "      <td>0.03</td>\n",
       "      <td>l2</td>\n",
       "      <td>{u'penalty': u'l2', u'C': 0.03}</td>\n",
       "      <td>5</td>\n",
       "      <td>0.601990</td>\n",
       "      <td>0.921151</td>\n",
       "      <td>...</td>\n",
       "      <td>0.600</td>\n",
       "      <td>0.90500</td>\n",
       "      <td>0.527638</td>\n",
       "      <td>0.923845</td>\n",
       "      <td>0.482412</td>\n",
       "      <td>0.931336</td>\n",
       "      <td>0.000484</td>\n",
       "      <td>0.000009</td>\n",
       "      <td>0.046667</td>\n",
       "      <td>0.012217</td>\n",
       "    </tr>\n",
       "  </tbody>\n",
       "</table>\n",
       "<p>8 rows × 22 columns</p>\n",
       "</div>"
      ],
      "text/plain": [
       "   mean_fit_time  mean_score_time  mean_test_score  mean_train_score param_C  \\\n",
       "0       0.010505         0.000558            0.503          0.503000    0.01   \n",
       "1       0.030319         0.000495            0.576          0.877494    0.01   \n",
       "2       0.075427         0.000405            0.581          0.816245     0.1   \n",
       "3       0.069390         0.000393            0.554          0.955741     0.1   \n",
       "4       0.094846         0.000465            0.572          0.882993     0.2   \n",
       "5       0.076968         0.000400            0.545          0.977993     0.2   \n",
       "6       0.021284         0.000415            0.626          0.648740    0.03   \n",
       "7       0.043668         0.000395            0.559          0.915991    0.03   \n",
       "\n",
       "  param_penalty                           params  rank_test_score  \\\n",
       "0            l1  {u'penalty': u'l1', u'C': 0.01}                8   \n",
       "1            l2  {u'penalty': u'l2', u'C': 0.01}                3   \n",
       "2            l1   {u'penalty': u'l1', u'C': 0.1}                2   \n",
       "3            l2   {u'penalty': u'l2', u'C': 0.1}                6   \n",
       "4            l1   {u'penalty': u'l1', u'C': 0.2}                4   \n",
       "5            l2   {u'penalty': u'l2', u'C': 0.2}                7   \n",
       "6            l1  {u'penalty': u'l1', u'C': 0.03}                1   \n",
       "7            l2  {u'penalty': u'l2', u'C': 0.03}                5   \n",
       "\n",
       "   split0_test_score  split0_train_score       ...         split2_test_score  \\\n",
       "0           0.502488            0.503129       ...                     0.505   \n",
       "1           0.577114            0.883605       ...                     0.640   \n",
       "2           0.572139            0.814768       ...                     0.625   \n",
       "3           0.567164            0.961202       ...                     0.610   \n",
       "4           0.597015            0.884856       ...                     0.630   \n",
       "5           0.557214            0.982478       ...                     0.580   \n",
       "6           0.616915            0.642053       ...                     0.630   \n",
       "7           0.601990            0.921151       ...                     0.600   \n",
       "\n",
       "   split2_train_score  split3_test_score  split3_train_score  \\\n",
       "0             0.50250           0.502513            0.503121   \n",
       "1             0.85750           0.537688            0.887640   \n",
       "2             0.80750           0.537688            0.818976   \n",
       "3             0.94875           0.512563            0.971286   \n",
       "4             0.88125           0.517588            0.891386   \n",
       "5             0.97125           0.517588            0.983770   \n",
       "6             0.64125           0.613065            0.677903   \n",
       "7             0.90500           0.527638            0.923845   \n",
       "\n",
       "   split4_test_score  split4_train_score  std_fit_time  std_score_time  \\\n",
       "0           0.502513            0.503121      0.002427        0.000263   \n",
       "1           0.502513            0.888889      0.002865        0.000214   \n",
       "2           0.557789            0.827715      0.031537        0.000013   \n",
       "3           0.502513            0.962547      0.007483        0.000002   \n",
       "4           0.532663            0.890137      0.020145        0.000081   \n",
       "5           0.502513            0.990012      0.001161        0.000007   \n",
       "6           0.628141            0.642946      0.008285        0.000028   \n",
       "7           0.482412            0.931336      0.000484        0.000009   \n",
       "\n",
       "   std_test_score  std_train_score  \n",
       "0        0.001000         0.000250  \n",
       "1        0.051083         0.012071  \n",
       "2        0.032801         0.006834  \n",
       "3        0.040480         0.012651  \n",
       "4        0.041426         0.008639  \n",
       "5        0.029707         0.009848  \n",
       "6        0.010204         0.014624  \n",
       "7        0.046667         0.012217  \n",
       "\n",
       "[8 rows x 22 columns]"
      ]
     },
     "execution_count": 29,
     "metadata": {},
     "output_type": "execute_result"
    }
   ],
   "source": [
    "lr_result_df"
   ]
  },
  {
   "cell_type": "markdown",
   "metadata": {},
   "source": [
    "**Construct a pipeline that uses SelectKBest, KNN**\n",
    "1. Build a new pipeline for SelectKBest and KNN.\n",
    "2. Set the neighbors between 11 and 21\n",
    "3. Select the max of 10 features using SelectKBest\n",
    "4. Run 5 Fold Grid Serach\n",
    "5. Review the Score\n",
    "6. Compare with LogisticRegression Score\n",
    "7. Review features"
   ]
  },
  {
   "cell_type": "code",
   "execution_count": 8,
   "metadata": {
    "collapsed": false
   },
   "outputs": [
    {
     "data": {
      "text/plain": [
       "[SelectKBest(k=10, score_func=<function f_classif at 0x7fe14a4cc938>),\n",
       " GridSearchCV(cv=5, error_score='raise',\n",
       "        estimator=KNeighborsClassifier(algorithm='auto', leaf_size=30, metric='minkowski',\n",
       "            metric_params=None, n_jobs=1, n_neighbors=10, p=2,\n",
       "            weights='uniform'),\n",
       "        fit_params={}, iid=True, n_jobs=1,\n",
       "        param_grid={'n_neighbors': [11, 13, 15, 17, 19, 21]},\n",
       "        pre_dispatch='2*n_jobs', refit=True, return_train_score=True,\n",
       "        scoring=None, verbose=0)]"
      ]
     },
     "execution_count": 8,
     "metadata": {},
     "output_type": "execute_result"
    }
   ],
   "source": [
    "data_dict1= make_data_dict(X,y,0.5,random_state=42)\n",
    "data_dict1 = general_transformer(SelectKBest(f_classif,k=10),data_dict1)\n",
    "KNN_model = KNeighborsClassifier(n_neighbors=10)\n",
    "KNN_params = {\n",
    "    'n_neighbors': [11,13,15,17,19,21]\n",
    "}\n",
    "gs_model = GridSearchCV(KNN_model, param_grid=KNN_params, cv=5)\n",
    "data_dict1 = general_model(gs_model, data_dict1)\n",
    "data_dict1[\"processes\"]"
   ]
  },
  {
   "cell_type": "code",
   "execution_count": 11,
   "metadata": {
    "collapsed": true
   },
   "outputs": [],
   "source": [
    "gs_model2 = data_dict1[\"processes\"][1]"
   ]
  },
  {
   "cell_type": "code",
   "execution_count": 12,
   "metadata": {
    "collapsed": false
   },
   "outputs": [
    {
     "name": "stdout",
     "output_type": "stream",
     "text": [
      "{'n_neighbors': 11}\n",
      "0.816\n",
      "KNeighborsClassifier(algorithm='auto', leaf_size=30, metric='minkowski',\n",
      "           metric_params=None, n_jobs=1, n_neighbors=11, p=2,\n",
      "           weights='uniform')\n"
     ]
    }
   ],
   "source": [
    "print gs_model2.best_params_\n",
    "print gs_model2.best_score_\n",
    "print gs_model2.best_estimator_"
   ]
  },
  {
   "cell_type": "code",
   "execution_count": 18,
   "metadata": {
    "collapsed": true
   },
   "outputs": [],
   "source": [
    "KBest = data_dict1[\"processes\"][0]"
   ]
  },
  {
   "cell_type": "code",
   "execution_count": 19,
   "metadata": {
    "collapsed": false
   },
   "outputs": [],
   "source": [
    "features_index = KBest.get_support(indices=True)"
   ]
  },
  {
   "cell_type": "code",
   "execution_count": 26,
   "metadata": {
    "collapsed": false
   },
   "outputs": [
    {
     "data": {
      "text/plain": [
       "array([ 48,  64, 105, 128, 241, 336, 338, 378, 442, 475])"
      ]
     },
     "execution_count": 26,
     "metadata": {},
     "output_type": "execute_result"
    }
   ],
   "source": [
    "features_index"
   ]
  },
  {
   "cell_type": "code",
   "execution_count": 30,
   "metadata": {
    "collapsed": true
   },
   "outputs": [],
   "source": [
    "KNN_result_df = pd.DataFrame(gs_model2.cv_results_)"
   ]
  },
  {
   "cell_type": "code",
   "execution_count": 31,
   "metadata": {
    "collapsed": false
   },
   "outputs": [
    {
     "data": {
      "text/html": [
       "<div>\n",
       "<table border=\"1\" class=\"dataframe\">\n",
       "  <thead>\n",
       "    <tr style=\"text-align: right;\">\n",
       "      <th></th>\n",
       "      <th>mean_fit_time</th>\n",
       "      <th>mean_score_time</th>\n",
       "      <th>mean_test_score</th>\n",
       "      <th>mean_train_score</th>\n",
       "      <th>param_n_neighbors</th>\n",
       "      <th>params</th>\n",
       "      <th>rank_test_score</th>\n",
       "      <th>split0_test_score</th>\n",
       "      <th>split0_train_score</th>\n",
       "      <th>split1_test_score</th>\n",
       "      <th>...</th>\n",
       "      <th>split2_test_score</th>\n",
       "      <th>split2_train_score</th>\n",
       "      <th>split3_test_score</th>\n",
       "      <th>split3_train_score</th>\n",
       "      <th>split4_test_score</th>\n",
       "      <th>split4_train_score</th>\n",
       "      <th>std_fit_time</th>\n",
       "      <th>std_score_time</th>\n",
       "      <th>std_test_score</th>\n",
       "      <th>std_train_score</th>\n",
       "    </tr>\n",
       "  </thead>\n",
       "  <tbody>\n",
       "    <tr>\n",
       "      <th>0</th>\n",
       "      <td>0.001510</td>\n",
       "      <td>0.003474</td>\n",
       "      <td>0.816</td>\n",
       "      <td>0.845510</td>\n",
       "      <td>11</td>\n",
       "      <td>{u'n_neighbors': 11}</td>\n",
       "      <td>1</td>\n",
       "      <td>0.815920</td>\n",
       "      <td>0.854819</td>\n",
       "      <td>0.805970</td>\n",
       "      <td>...</td>\n",
       "      <td>0.780</td>\n",
       "      <td>0.84500</td>\n",
       "      <td>0.844221</td>\n",
       "      <td>0.837703</td>\n",
       "      <td>0.834171</td>\n",
       "      <td>0.832709</td>\n",
       "      <td>0.000765</td>\n",
       "      <td>0.001045</td>\n",
       "      <td>0.022441</td>\n",
       "      <td>0.009500</td>\n",
       "    </tr>\n",
       "    <tr>\n",
       "      <th>1</th>\n",
       "      <td>0.001096</td>\n",
       "      <td>0.002569</td>\n",
       "      <td>0.806</td>\n",
       "      <td>0.835759</td>\n",
       "      <td>13</td>\n",
       "      <td>{u'n_neighbors': 13}</td>\n",
       "      <td>2</td>\n",
       "      <td>0.791045</td>\n",
       "      <td>0.843554</td>\n",
       "      <td>0.791045</td>\n",
       "      <td>...</td>\n",
       "      <td>0.790</td>\n",
       "      <td>0.82875</td>\n",
       "      <td>0.819095</td>\n",
       "      <td>0.830212</td>\n",
       "      <td>0.839196</td>\n",
       "      <td>0.827715</td>\n",
       "      <td>0.000067</td>\n",
       "      <td>0.000051</td>\n",
       "      <td>0.019863</td>\n",
       "      <td>0.008594</td>\n",
       "    </tr>\n",
       "    <tr>\n",
       "      <th>2</th>\n",
       "      <td>0.001050</td>\n",
       "      <td>0.002640</td>\n",
       "      <td>0.796</td>\n",
       "      <td>0.829507</td>\n",
       "      <td>15</td>\n",
       "      <td>{u'n_neighbors': 15}</td>\n",
       "      <td>3</td>\n",
       "      <td>0.776119</td>\n",
       "      <td>0.834793</td>\n",
       "      <td>0.776119</td>\n",
       "      <td>...</td>\n",
       "      <td>0.770</td>\n",
       "      <td>0.82625</td>\n",
       "      <td>0.819095</td>\n",
       "      <td>0.823970</td>\n",
       "      <td>0.839196</td>\n",
       "      <td>0.822722</td>\n",
       "      <td>0.000019</td>\n",
       "      <td>0.000058</td>\n",
       "      <td>0.027777</td>\n",
       "      <td>0.006651</td>\n",
       "    </tr>\n",
       "    <tr>\n",
       "      <th>3</th>\n",
       "      <td>0.001129</td>\n",
       "      <td>0.002739</td>\n",
       "      <td>0.795</td>\n",
       "      <td>0.816509</td>\n",
       "      <td>17</td>\n",
       "      <td>{u'n_neighbors': 17}</td>\n",
       "      <td>4</td>\n",
       "      <td>0.776119</td>\n",
       "      <td>0.819775</td>\n",
       "      <td>0.766169</td>\n",
       "      <td>...</td>\n",
       "      <td>0.785</td>\n",
       "      <td>0.81500</td>\n",
       "      <td>0.829146</td>\n",
       "      <td>0.816479</td>\n",
       "      <td>0.819095</td>\n",
       "      <td>0.800250</td>\n",
       "      <td>0.000095</td>\n",
       "      <td>0.000077</td>\n",
       "      <td>0.024623</td>\n",
       "      <td>0.009884</td>\n",
       "    </tr>\n",
       "    <tr>\n",
       "      <th>4</th>\n",
       "      <td>0.001054</td>\n",
       "      <td>0.002918</td>\n",
       "      <td>0.791</td>\n",
       "      <td>0.813254</td>\n",
       "      <td>19</td>\n",
       "      <td>{u'n_neighbors': 19}</td>\n",
       "      <td>5</td>\n",
       "      <td>0.781095</td>\n",
       "      <td>0.818523</td>\n",
       "      <td>0.786070</td>\n",
       "      <td>...</td>\n",
       "      <td>0.770</td>\n",
       "      <td>0.81375</td>\n",
       "      <td>0.819095</td>\n",
       "      <td>0.812734</td>\n",
       "      <td>0.798995</td>\n",
       "      <td>0.805243</td>\n",
       "      <td>0.000013</td>\n",
       "      <td>0.000171</td>\n",
       "      <td>0.016811</td>\n",
       "      <td>0.004474</td>\n",
       "    </tr>\n",
       "    <tr>\n",
       "      <th>5</th>\n",
       "      <td>0.001105</td>\n",
       "      <td>0.002872</td>\n",
       "      <td>0.787</td>\n",
       "      <td>0.807751</td>\n",
       "      <td>21</td>\n",
       "      <td>{u'n_neighbors': 21}</td>\n",
       "      <td>6</td>\n",
       "      <td>0.761194</td>\n",
       "      <td>0.814768</td>\n",
       "      <td>0.791045</td>\n",
       "      <td>...</td>\n",
       "      <td>0.770</td>\n",
       "      <td>0.80125</td>\n",
       "      <td>0.814070</td>\n",
       "      <td>0.811486</td>\n",
       "      <td>0.798995</td>\n",
       "      <td>0.805243</td>\n",
       "      <td>0.000099</td>\n",
       "      <td>0.000046</td>\n",
       "      <td>0.019220</td>\n",
       "      <td>0.004791</td>\n",
       "    </tr>\n",
       "  </tbody>\n",
       "</table>\n",
       "<p>6 rows × 21 columns</p>\n",
       "</div>"
      ],
      "text/plain": [
       "   mean_fit_time  mean_score_time  mean_test_score  mean_train_score  \\\n",
       "0       0.001510         0.003474            0.816          0.845510   \n",
       "1       0.001096         0.002569            0.806          0.835759   \n",
       "2       0.001050         0.002640            0.796          0.829507   \n",
       "3       0.001129         0.002739            0.795          0.816509   \n",
       "4       0.001054         0.002918            0.791          0.813254   \n",
       "5       0.001105         0.002872            0.787          0.807751   \n",
       "\n",
       "  param_n_neighbors                params  rank_test_score  split0_test_score  \\\n",
       "0                11  {u'n_neighbors': 11}                1           0.815920   \n",
       "1                13  {u'n_neighbors': 13}                2           0.791045   \n",
       "2                15  {u'n_neighbors': 15}                3           0.776119   \n",
       "3                17  {u'n_neighbors': 17}                4           0.776119   \n",
       "4                19  {u'n_neighbors': 19}                5           0.781095   \n",
       "5                21  {u'n_neighbors': 21}                6           0.761194   \n",
       "\n",
       "   split0_train_score  split1_test_score       ...         split2_test_score  \\\n",
       "0            0.854819           0.805970       ...                     0.780   \n",
       "1            0.843554           0.791045       ...                     0.790   \n",
       "2            0.834793           0.776119       ...                     0.770   \n",
       "3            0.819775           0.766169       ...                     0.785   \n",
       "4            0.818523           0.786070       ...                     0.770   \n",
       "5            0.814768           0.791045       ...                     0.770   \n",
       "\n",
       "   split2_train_score  split3_test_score  split3_train_score  \\\n",
       "0             0.84500           0.844221            0.837703   \n",
       "1             0.82875           0.819095            0.830212   \n",
       "2             0.82625           0.819095            0.823970   \n",
       "3             0.81500           0.829146            0.816479   \n",
       "4             0.81375           0.819095            0.812734   \n",
       "5             0.80125           0.814070            0.811486   \n",
       "\n",
       "   split4_test_score  split4_train_score  std_fit_time  std_score_time  \\\n",
       "0           0.834171            0.832709      0.000765        0.001045   \n",
       "1           0.839196            0.827715      0.000067        0.000051   \n",
       "2           0.839196            0.822722      0.000019        0.000058   \n",
       "3           0.819095            0.800250      0.000095        0.000077   \n",
       "4           0.798995            0.805243      0.000013        0.000171   \n",
       "5           0.798995            0.805243      0.000099        0.000046   \n",
       "\n",
       "   std_test_score  std_train_score  \n",
       "0        0.022441         0.009500  \n",
       "1        0.019863         0.008594  \n",
       "2        0.027777         0.006651  \n",
       "3        0.024623         0.009884  \n",
       "4        0.016811         0.004474  \n",
       "5        0.019220         0.004791  \n",
       "\n",
       "[6 rows x 21 columns]"
      ]
     },
     "execution_count": 31,
     "metadata": {},
     "output_type": "execute_result"
    }
   ],
   "source": [
    "KNN_result_df"
   ]
  },
  {
   "cell_type": "markdown",
   "metadata": {},
   "source": [
    "### We received 83% score with  K Nearest Neighbors with SelectKBest transformer. Which is a higher score compare to Logistic Regression and we will go with this model. Feature Selected by this model are shown above."
   ]
  },
  {
   "cell_type": "markdown",
   "metadata": {},
   "source": [
    "## Implementation\n",
    "\n",
    "Implement the following code pipeline using the functions you write in `lib/project_5.py`."
   ]
  },
  {
   "cell_type": "markdown",
   "metadata": {},
   "source": [
    "<img src=\"assets/build_model.png\" width=\"600px\">"
   ]
  }
 ],
 "metadata": {
  "kernelspec": {
   "display_name": "Python 2",
   "language": "python",
   "name": "python2"
  },
  "language_info": {
   "codemirror_mode": {
    "name": "ipython",
    "version": 2
   },
   "file_extension": ".py",
   "mimetype": "text/x-python",
   "name": "python",
   "nbconvert_exporter": "python",
   "pygments_lexer": "ipython2",
   "version": "2.7.11"
  },
  "widgets": {
   "state": {},
   "version": "1.1.2"
  }
 },
 "nbformat": 4,
 "nbformat_minor": 1
}
